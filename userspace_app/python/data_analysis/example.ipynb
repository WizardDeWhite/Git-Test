{
 "cells": [
  {
   "cell_type": "code",
   "execution_count": 20,
   "metadata": {},
   "outputs": [
    {
     "name": "stdout",
     "output_type": "stream",
     "text": [
      "{'name': 'apple', 'area': 'shandong', 'price': 3}\n",
      "apple\n"
     ]
    },
    {
     "data": {
      "text/plain": [
       "[('shandong', 3), ('guangdong', 2), ('jiangsu', 1)]"
      ]
     },
     "execution_count": 20,
     "metadata": {},
     "output_type": "execute_result"
    }
   ],
   "source": [
    "import json\n",
    "\n",
    "from collections import Counter\n",
    "\n",
    "path = 'example.json'\n",
    "fObj = open(path)\n",
    "records = json.load(fObj)\n",
    "print(records[0])\n",
    "print(records[0]['name'])\n",
    "areas = [rec['area'] for rec in records]\n",
    "counts = Counter(areas)\n",
    "counts.most_common(3)"
   ]
  },
  {
   "cell_type": "code",
   "execution_count": 5,
   "metadata": {},
   "outputs": [
    {
     "name": "stdout",
     "output_type": "stream",
     "text": [
      "Populating the interactive namespace from numpy and matplotlib\n"
     ]
    },
    {
     "data": {
      "text/plain": [
       "<matplotlib.axes._subplots.AxesSubplot at 0x7fe5ddba40b8>"
      ]
     },
     "execution_count": 5,
     "metadata": {},
     "output_type": "execute_result"
    },
    {
     "data": {
      "image/png": "[encoded data removed]",
      "text/plain": [
       "<matplotlib.figure.Figure at 0x7fe5e0053978>"
      ]
     },
     "metadata": {},
     "output_type": "display_data"
    }
   ],
   "source": [
    "%pylab inline\n",
    "from pandas import DataFrame, Series\n",
    "import pandas as pd;\n",
    "import numpy as np\n",
    "import json\n",
    "\n",
    "\n",
    "path = 'example.json'\n",
    "fObj = open(path)\n",
    "records = json.load(fObj)\n",
    "frame = DataFrame(records)\n",
    "# frame\n",
    "# frame['area'][:3]\n",
    "area_counts = frame['area'].value_counts()\n",
    "#area_counts\n",
    "area_counts.plot(kind='barh', rot=0)"
   ]
  }
 ],
 "metadata": {
  "kernelspec": {
   "display_name": "Python 3",
   "language": "python",
   "name": "python3"
  },
  "language_info": {
   "codemirror_mode": {
    "name": "ipython",
    "version": 3
   },
   "file_extension": ".py",
   "mimetype": "text/x-python",
   "name": "python",
   "nbconvert_exporter": "python",
   "pygments_lexer": "ipython3",
   "version": "3.6.1"
  }
 },
 "nbformat": 4,
 "nbformat_minor": 2
}
