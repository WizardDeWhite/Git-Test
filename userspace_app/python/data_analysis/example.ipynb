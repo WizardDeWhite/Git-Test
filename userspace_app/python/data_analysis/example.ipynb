{
 "cells": [
  {
   "cell_type": "code",
   "execution_count": 20,
   "metadata": {},
   "outputs": [
    {
     "name": "stdout",
     "output_type": "stream",
     "text": [
      "{'name': 'apple', 'area': 'shandong', 'price': 3}\n",
      "apple\n"
     ]
    },
    {
     "data": {
      "text/plain": [
       "[('shandong', 3), ('guangdong', 2), ('jiangsu', 1)]"
      ]
     },
     "execution_count": 20,
     "metadata": {},
     "output_type": "execute_result"
    }
   ],
   "source": [
    "import json\n",
    "\n",
    "from collections import Counter\n",
    "\n",
    "path = 'example.json'\n",
    "fObj = open(path)\n",
    "records = json.load(fObj)\n",
    "print(records[0])\n",
    "print(records[0]['name'])\n",
    "areas = [rec['area'] for rec in records]\n",
    "counts = Counter(areas)\n",
    "counts.most_common(3)"
   ]
  },
  {
   "cell_type": "code",
   "execution_count": null,
   "metadata": {},
   "outputs": [],
   "source": []
  }
 ],
 "metadata": {
  "kernelspec": {
   "display_name": "Python 3",
   "language": "python",
   "name": "python3"
  },
  "language_info": {
   "codemirror_mode": {
    "name": "ipython",
    "version": 3
   },
   "file_extension": ".py",
   "mimetype": "text/x-python",
   "name": "python",
   "nbconvert_exporter": "python",
   "pygments_lexer": "ipython3",
   "version": "3.6.1"
  }
 },
 "nbformat": 4,
 "nbformat_minor": 2
}
